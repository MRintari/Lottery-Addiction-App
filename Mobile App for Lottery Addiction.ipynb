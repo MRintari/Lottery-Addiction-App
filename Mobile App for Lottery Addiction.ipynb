{
 "cells": [
  {
   "cell_type": "markdown",
   "id": "96fedb83",
   "metadata": {},
   "source": [
    "# Mobile App for Lottery Addiction\n",
    "In this project, I will be developing the logic for a mobile app that helps lottery addicts better estimate their chances of winning. The app will focus on the [6/49 lottery](https://en.wikipedia.org/wiki/Lotto_6/49) and enable users to answer questions like:\n",
    "* What is the probability of winning the big prize with a single ticket?\n",
    "* What is the probability of winning the big prize if we play 40 different tickets (or any other number)?\n",
    "* What is the probability of having at least five (or four, or three, or two) winning numbers on a single ticket?\n",
    "\n",
    "This project will use data from the national 6/49 lottery game in Canada. The [data set](https://www.kaggle.com/datascienceai/lottery-dataset) has data for 3,655 drawings, dating from 1982 to 2018.\n",
    "\n",
    "## Core Functions\n",
    "Throughout this project, I will need to calculate repeatedly probabilities and combinations. As a consequence, I'll start by writing two functions:\n",
    "* A function that calculates factorials\n",
    "* A function that calculates combination"
   ]
  },
  {
   "cell_type": "code",
   "execution_count": 4,
   "id": "e0e0b23f",
   "metadata": {},
   "outputs": [],
   "source": [
    "# Factorial function\n",
    "def factorial(n):\n",
    "    answer = 1\n",
    "    for i in range(n):\n",
    "        answer *= i+1\n",
    "    return answer\n",
    "\n",
    "# Permutation function\n",
    "def permutation(n,k):\n",
    "    answer = 1\n",
    "    for i in range(n,n-k,-1):\n",
    "        answer *= i\n",
    "    return answer\n",
    "\n",
    "# Function calculates number of combinations when\n",
    "# taking k objects from group of n objects\n",
    "def combinations(n,k):\n",
    "    perm = permutation(n,k)\n",
    "    return perm / factorial(k)"
   ]
  },
  {
   "cell_type": "markdown",
   "id": "80d4f6a5",
   "metadata": {},
   "source": [
    "# One-ticket Probability\n",
    "For the first version of the app, we want players to be able to calculate the probability of winning the big prize with the various numbers they play on a single ticket. For each ticket a player chooses six numberse out of 49. The next function to write will therefore be one that calculates this probability. The following details must be considered for the function:\n",
    "* Inside the app, the user inputs six different numbers from 1 to 49\n",
    "* Under the hood, the six numbers will come as a Python list, which will serve as the single input to the function\n",
    "* The function prints the probability value in a user-friendly way - where people without any probability training are able to understand"
   ]
  },
  {
   "cell_type": "code",
   "execution_count": 50,
   "id": "eeb41745",
   "metadata": {},
   "outputs": [],
   "source": [
    "def one_ticket_probability(nums):\n",
    "    n_outcomes = combinations(49,6)\n",
    "    prob = 1 / n_outcomes\n",
    "    percentage = prob * 100\n",
    "    print(f'Your chances to win the big prize with the numbers {nums} are {percentage:.5f}%.\\nIn other words, you have a 1 in {int(n_outcomes):,} chances to win.')"
   ]
  },
  {
   "cell_type": "markdown",
   "id": "a70cfd5e",
   "metadata": {},
   "source": [
    "Testing this function, it would look like this."
   ]
  },
  {
   "cell_type": "code",
   "execution_count": 51,
   "id": "36d8af38",
   "metadata": {},
   "outputs": [
    {
     "name": "stdout",
     "output_type": "stream",
     "text": [
      "Your chances to win the big prize with the numbers [38, 39, 41, 9, 19, 21] are 0.00001%.\n",
      "In other words, you have a 1 in 13,983,816 chances to win.\n"
     ]
    }
   ],
   "source": [
    "ticket = [38,39,41,9,19,21]\n",
    "one_ticket_probability(ticket)"
   ]
  },
  {
   "cell_type": "markdown",
   "id": "542b0536",
   "metadata": {},
   "source": [
    "## Historical Data Check for Canada Lottery\n",
    "The first version of the app will also allow users to be able to compare their ticket against the historical lottery data in Canada up to 2018, and determine whether they would have ever won by now. This will use the data set mentioned in the [introduction](#mobile-app-for-lottery-addiction)."
   ]
  },
  {
   "cell_type": "code",
   "execution_count": 27,
   "id": "971cc12e",
   "metadata": {},
   "outputs": [
    {
     "data": {
      "text/html": [
       "<div>\n",
       "<style scoped>\n",
       "    .dataframe tbody tr th:only-of-type {\n",
       "        vertical-align: middle;\n",
       "    }\n",
       "\n",
       "    .dataframe tbody tr th {\n",
       "        vertical-align: top;\n",
       "    }\n",
       "\n",
       "    .dataframe thead th {\n",
       "        text-align: right;\n",
       "    }\n",
       "</style>\n",
       "<table border=\"1\" class=\"dataframe\">\n",
       "  <thead>\n",
       "    <tr style=\"text-align: right;\">\n",
       "      <th></th>\n",
       "      <th>PRODUCT</th>\n",
       "      <th>DRAW NUMBER</th>\n",
       "      <th>SEQUENCE NUMBER</th>\n",
       "      <th>DRAW DATE</th>\n",
       "      <th>NUMBER DRAWN 1</th>\n",
       "      <th>NUMBER DRAWN 2</th>\n",
       "      <th>NUMBER DRAWN 3</th>\n",
       "      <th>NUMBER DRAWN 4</th>\n",
       "      <th>NUMBER DRAWN 5</th>\n",
       "      <th>NUMBER DRAWN 6</th>\n",
       "      <th>BONUS NUMBER</th>\n",
       "    </tr>\n",
       "  </thead>\n",
       "  <tbody>\n",
       "    <tr>\n",
       "      <th>0</th>\n",
       "      <td>649</td>\n",
       "      <td>1</td>\n",
       "      <td>0</td>\n",
       "      <td>6/12/1982</td>\n",
       "      <td>3</td>\n",
       "      <td>11</td>\n",
       "      <td>12</td>\n",
       "      <td>14</td>\n",
       "      <td>41</td>\n",
       "      <td>43</td>\n",
       "      <td>13</td>\n",
       "    </tr>\n",
       "    <tr>\n",
       "      <th>1</th>\n",
       "      <td>649</td>\n",
       "      <td>2</td>\n",
       "      <td>0</td>\n",
       "      <td>6/19/1982</td>\n",
       "      <td>8</td>\n",
       "      <td>33</td>\n",
       "      <td>36</td>\n",
       "      <td>37</td>\n",
       "      <td>39</td>\n",
       "      <td>41</td>\n",
       "      <td>9</td>\n",
       "    </tr>\n",
       "    <tr>\n",
       "      <th>2</th>\n",
       "      <td>649</td>\n",
       "      <td>3</td>\n",
       "      <td>0</td>\n",
       "      <td>6/26/1982</td>\n",
       "      <td>1</td>\n",
       "      <td>6</td>\n",
       "      <td>23</td>\n",
       "      <td>24</td>\n",
       "      <td>27</td>\n",
       "      <td>39</td>\n",
       "      <td>34</td>\n",
       "    </tr>\n",
       "    <tr>\n",
       "      <th>3</th>\n",
       "      <td>649</td>\n",
       "      <td>4</td>\n",
       "      <td>0</td>\n",
       "      <td>7/3/1982</td>\n",
       "      <td>3</td>\n",
       "      <td>9</td>\n",
       "      <td>10</td>\n",
       "      <td>13</td>\n",
       "      <td>20</td>\n",
       "      <td>43</td>\n",
       "      <td>34</td>\n",
       "    </tr>\n",
       "    <tr>\n",
       "      <th>4</th>\n",
       "      <td>649</td>\n",
       "      <td>5</td>\n",
       "      <td>0</td>\n",
       "      <td>7/10/1982</td>\n",
       "      <td>5</td>\n",
       "      <td>14</td>\n",
       "      <td>21</td>\n",
       "      <td>31</td>\n",
       "      <td>34</td>\n",
       "      <td>47</td>\n",
       "      <td>45</td>\n",
       "    </tr>\n",
       "  </tbody>\n",
       "</table>\n",
       "</div>"
      ],
      "text/plain": [
       "   PRODUCT  DRAW NUMBER  SEQUENCE NUMBER  DRAW DATE  NUMBER DRAWN 1  \\\n",
       "0      649            1                0  6/12/1982               3   \n",
       "1      649            2                0  6/19/1982               8   \n",
       "2      649            3                0  6/26/1982               1   \n",
       "3      649            4                0   7/3/1982               3   \n",
       "4      649            5                0  7/10/1982               5   \n",
       "\n",
       "   NUMBER DRAWN 2  NUMBER DRAWN 3  NUMBER DRAWN 4  NUMBER DRAWN 5  \\\n",
       "0              11              12              14              41   \n",
       "1              33              36              37              39   \n",
       "2               6              23              24              27   \n",
       "3               9              10              13              20   \n",
       "4              14              21              31              34   \n",
       "\n",
       "   NUMBER DRAWN 6  BONUS NUMBER  \n",
       "0              43            13  \n",
       "1              41             9  \n",
       "2              39            34  \n",
       "3              43            34  \n",
       "4              47            45  "
      ]
     },
     "execution_count": 27,
     "metadata": {},
     "output_type": "execute_result"
    }
   ],
   "source": [
    "# Import necessary modules\n",
    "import pandas as pd\n",
    "\n",
    "# Read and view data set\n",
    "lottery = pd.read_csv('Datasets/649.csv')\n",
    "lottery.head()"
   ]
  },
  {
   "cell_type": "code",
   "execution_count": 28,
   "id": "982aedee",
   "metadata": {},
   "outputs": [
    {
     "name": "stdout",
     "output_type": "stream",
     "text": [
      "(3665, 11)\n"
     ]
    }
   ],
   "source": [
    "print(lottery.shape)"
   ]
  },
  {
   "cell_type": "markdown",
   "id": "a63feb66",
   "metadata": {},
   "source": [
    "Now that the data has been loaded and explored, I can write a function that will enable users to compare their ticket against the historical lottery data in Canada and determine whether they would have ever won by now. The following details must be considered for the functions:\n",
    "* Inside the app, the user inputs six different numbers from 1 to 49\n",
    "* Under the hood, the six numbers will come as a Python list and serve as an input to the function\n",
    "* Prints the number of times the combination selected ocurred in the Canada data set\n",
    "* The probability of winning the big prize in the next drawing with that combination"
   ]
  },
  {
   "cell_type": "code",
   "execution_count": 35,
   "id": "6d0c8efb",
   "metadata": {},
   "outputs": [
    {
     "data": {
      "text/html": [
       "<div>\n",
       "<style scoped>\n",
       "    .dataframe tbody tr th:only-of-type {\n",
       "        vertical-align: middle;\n",
       "    }\n",
       "\n",
       "    .dataframe tbody tr th {\n",
       "        vertical-align: top;\n",
       "    }\n",
       "\n",
       "    .dataframe thead th {\n",
       "        text-align: right;\n",
       "    }\n",
       "</style>\n",
       "<table border=\"1\" class=\"dataframe\">\n",
       "  <thead>\n",
       "    <tr style=\"text-align: right;\">\n",
       "      <th></th>\n",
       "      <th>PRODUCT</th>\n",
       "      <th>DRAW NUMBER</th>\n",
       "      <th>SEQUENCE NUMBER</th>\n",
       "      <th>DRAW DATE</th>\n",
       "      <th>NUMBER DRAWN 1</th>\n",
       "      <th>NUMBER DRAWN 2</th>\n",
       "      <th>NUMBER DRAWN 3</th>\n",
       "      <th>NUMBER DRAWN 4</th>\n",
       "      <th>NUMBER DRAWN 5</th>\n",
       "      <th>NUMBER DRAWN 6</th>\n",
       "      <th>BONUS NUMBER</th>\n",
       "      <th>TICKET</th>\n",
       "    </tr>\n",
       "  </thead>\n",
       "  <tbody>\n",
       "    <tr>\n",
       "      <th>0</th>\n",
       "      <td>649</td>\n",
       "      <td>1</td>\n",
       "      <td>0</td>\n",
       "      <td>6/12/1982</td>\n",
       "      <td>3</td>\n",
       "      <td>11</td>\n",
       "      <td>12</td>\n",
       "      <td>14</td>\n",
       "      <td>41</td>\n",
       "      <td>43</td>\n",
       "      <td>13</td>\n",
       "      <td>[3, 11, 12, 14, 41, 43]</td>\n",
       "    </tr>\n",
       "    <tr>\n",
       "      <th>1</th>\n",
       "      <td>649</td>\n",
       "      <td>2</td>\n",
       "      <td>0</td>\n",
       "      <td>6/19/1982</td>\n",
       "      <td>8</td>\n",
       "      <td>33</td>\n",
       "      <td>36</td>\n",
       "      <td>37</td>\n",
       "      <td>39</td>\n",
       "      <td>41</td>\n",
       "      <td>9</td>\n",
       "      <td>[8, 33, 36, 37, 39, 41]</td>\n",
       "    </tr>\n",
       "    <tr>\n",
       "      <th>2</th>\n",
       "      <td>649</td>\n",
       "      <td>3</td>\n",
       "      <td>0</td>\n",
       "      <td>6/26/1982</td>\n",
       "      <td>1</td>\n",
       "      <td>6</td>\n",
       "      <td>23</td>\n",
       "      <td>24</td>\n",
       "      <td>27</td>\n",
       "      <td>39</td>\n",
       "      <td>34</td>\n",
       "      <td>[1, 6, 23, 24, 27, 39]</td>\n",
       "    </tr>\n",
       "    <tr>\n",
       "      <th>3</th>\n",
       "      <td>649</td>\n",
       "      <td>4</td>\n",
       "      <td>0</td>\n",
       "      <td>7/3/1982</td>\n",
       "      <td>3</td>\n",
       "      <td>9</td>\n",
       "      <td>10</td>\n",
       "      <td>13</td>\n",
       "      <td>20</td>\n",
       "      <td>43</td>\n",
       "      <td>34</td>\n",
       "      <td>[3, 9, 10, 13, 20, 43]</td>\n",
       "    </tr>\n",
       "    <tr>\n",
       "      <th>4</th>\n",
       "      <td>649</td>\n",
       "      <td>5</td>\n",
       "      <td>0</td>\n",
       "      <td>7/10/1982</td>\n",
       "      <td>5</td>\n",
       "      <td>14</td>\n",
       "      <td>21</td>\n",
       "      <td>31</td>\n",
       "      <td>34</td>\n",
       "      <td>47</td>\n",
       "      <td>45</td>\n",
       "      <td>[5, 14, 21, 31, 34, 47]</td>\n",
       "    </tr>\n",
       "  </tbody>\n",
       "</table>\n",
       "</div>"
      ],
      "text/plain": [
       "   PRODUCT  DRAW NUMBER  SEQUENCE NUMBER  DRAW DATE  NUMBER DRAWN 1  \\\n",
       "0      649            1                0  6/12/1982               3   \n",
       "1      649            2                0  6/19/1982               8   \n",
       "2      649            3                0  6/26/1982               1   \n",
       "3      649            4                0   7/3/1982               3   \n",
       "4      649            5                0  7/10/1982               5   \n",
       "\n",
       "   NUMBER DRAWN 2  NUMBER DRAWN 3  NUMBER DRAWN 4  NUMBER DRAWN 5  \\\n",
       "0              11              12              14              41   \n",
       "1              33              36              37              39   \n",
       "2               6              23              24              27   \n",
       "3               9              10              13              20   \n",
       "4              14              21              31              34   \n",
       "\n",
       "   NUMBER DRAWN 6  BONUS NUMBER                   TICKET  \n",
       "0              43            13  [3, 11, 12, 14, 41, 43]  \n",
       "1              41             9  [8, 33, 36, 37, 39, 41]  \n",
       "2              39            34   [1, 6, 23, 24, 27, 39]  \n",
       "3              43            34   [3, 9, 10, 13, 20, 43]  \n",
       "4              47            45  [5, 14, 21, 31, 34, 47]  "
      ]
     },
     "execution_count": 35,
     "metadata": {},
     "output_type": "execute_result"
    }
   ],
   "source": [
    "# Add column that stores entire ticket\n",
    "def add_ticket(row):\n",
    "    ticket = []\n",
    "    for i in range(6):\n",
    "        ticket.append(row[f'NUMBER DRAWN {i+1}'])\n",
    "    return sorted(ticket) #ensures order is irrelevant\n",
    "\n",
    "lottery['TICKET'] = lottery.apply(add_ticket, axis=1)\n",
    "\n",
    "lottery.head()"
   ]
  },
  {
   "cell_type": "code",
   "execution_count": 52,
   "id": "7969d715",
   "metadata": {},
   "outputs": [],
   "source": [
    "# Check if user's ticket has won before\n",
    "def historical_check(ticket):\n",
    "    count = 0 # instantiate count \n",
    "    nums = sorted(ticket) # ensures order is irrelevant\n",
    "    tickets = lottery['TICKET']\n",
    "    for t in tickets:\n",
    "        if nums == t:\n",
    "            count += 1 # Loops through all tickets and counts matches\n",
    "    \n",
    "    # Outputs suitable message\n",
    "    if count == 0:\n",
    "        print(f'Your chosen numbers of {ticket} has never won the big prize.')\n",
    "    elif count == 1:\n",
    "        print(f'Your chosen numbers of {ticket} has won the big prize {count} time.')\n",
    "    else:\n",
    "        print(f'Your chosen numbers of {ticket} has won the big prize {count} times.')\n",
    "        \n",
    "    one_ticket_probability(ticket)"
   ]
  },
  {
   "cell_type": "markdown",
   "id": "100e162d",
   "metadata": {},
   "source": [
    "This function will now be tested."
   ]
  },
  {
   "cell_type": "code",
   "execution_count": 53,
   "id": "8e298ee2",
   "metadata": {},
   "outputs": [
    {
     "name": "stdout",
     "output_type": "stream",
     "text": [
      "Your chosen numbers of [33, 36, 37, 39, 8, 41] has won the big prize 1 time.\n",
      "Your chances to win the big prize with the numbers [33, 36, 37, 39, 8, 41] are 0.00001%.\n",
      "In other words, you have a 1 in 13,983,816 chances to win.\n"
     ]
    }
   ],
   "source": [
    "test_input = [33, 36, 37, 39, 8, 41]\n",
    "historical_check(test_input)"
   ]
  },
  {
   "cell_type": "code",
   "execution_count": 54,
   "id": "924e9a80",
   "metadata": {},
   "outputs": [
    {
     "name": "stdout",
     "output_type": "stream",
     "text": [
      "Your chosen numbers of [3, 2, 44, 22, 1, 44] has never won the big prize.\n",
      "Your chances to win the big prize with the numbers [3, 2, 44, 22, 1, 44] are 0.00001%.\n",
      "In other words, you have a 1 in 13,983,816 chances to win.\n"
     ]
    }
   ],
   "source": [
    "test_input = [3, 2, 44, 22, 1, 44]\n",
    "historical_check(test_input)"
   ]
  },
  {
   "cell_type": "markdown",
   "id": "54daabde",
   "metadata": {},
   "source": [
    "## Multi-ticket Probability\n",
    "\n",
    "Lottery addicts usually play more than one ticket on a single drawing, thinking that this may increase theri chances of winning significantly. The purpose of the app is to help them better estimate their chances of winning so the next function I'll write will allow the users to calculate the chances of winning for any number of different tickets.\n",
    "\n",
    "The following details must be considered for the functions:\n",
    "* The user will input the number of different tickets they want to play (without inputting the specific combinations they intend to play)\n",
    "* The function will see an integer between 1 and 13,983,816 (the maximum number of different tickets)\n",
    "* The function should print information about the probability of winning the big prize depending on the number of different tickets played.\n"
   ]
  },
  {
   "cell_type": "code",
   "execution_count": 62,
   "id": "8b418538",
   "metadata": {},
   "outputs": [],
   "source": [
    "def multi_ticket_probability(n):\n",
    "    n_outcomes = combinations(49,6)\n",
    "    while n < 1 and n > n_outcomes:\n",
    "        n = input('Input valid number')\n",
    "    prob = n / n_outcomes\n",
    "    percentage = prob * 100\n",
    "    print(f'Your chance to win the big prize with {n:,} tickets is {percentage:.5f}%.')"
   ]
  },
  {
   "cell_type": "markdown",
   "id": "98e74c93",
   "metadata": {},
   "source": [
    "Now, lets test the function."
   ]
  },
  {
   "cell_type": "code",
   "execution_count": 63,
   "id": "dee79b7d",
   "metadata": {},
   "outputs": [
    {
     "data": {
      "text/plain": [
       "[1, 10, 100, 10000, 1000000, 6991908, 13983816]"
      ]
     },
     "execution_count": 63,
     "metadata": {},
     "output_type": "execute_result"
    }
   ],
   "source": [
    "[1, 10, 100, 10000, 1000000, 6991908, 13983816]"
   ]
  },
  {
   "cell_type": "code",
   "execution_count": 64,
   "id": "f8e36c1e",
   "metadata": {},
   "outputs": [
    {
     "name": "stdout",
     "output_type": "stream",
     "text": [
      "Your chance to win the big prize with 1 tickets is 0.00001%.\n"
     ]
    }
   ],
   "source": [
    "multi_ticket_probability(1)"
   ]
  },
  {
   "cell_type": "code",
   "execution_count": 65,
   "id": "f64b6b9d",
   "metadata": {},
   "outputs": [
    {
     "name": "stdout",
     "output_type": "stream",
     "text": [
      "Your chance to win the big prize with 10,000 tickets is 0.07151%.\n"
     ]
    }
   ],
   "source": [
    "multi_ticket_probability(10000)"
   ]
  },
  {
   "cell_type": "markdown",
   "id": "aad3520b",
   "metadata": {},
   "source": [
    "## Less Winning Numbers\n",
    "In most 6/49 lotteries, there are smaller prizes if a player's ticket match two, three, four, or five of the six numbers drawn. As a consequence, the users might be interested in knowing the probability of having two, three, four, or five winning numbers. So, this function will be the next to write, with the following details needing to be considered:\n",
    "* The user inputs six different numbers from 1 to 49\n",
    "* The user inputs an integer between 2 and 5 that represents the number of winning numbers expected"
   ]
  },
  {
   "cell_type": "code",
   "execution_count": 88,
   "id": "c2558e32",
   "metadata": {},
   "outputs": [],
   "source": [
    "# Check if exactly n numbers match winning ticket\n",
    "def probability_less_6(n):\n",
    "    n_outcomes = combinations(49,6)\n",
    "    n_combinations = combinations(6,n)\n",
    "    n_success = combinations(43, 6-n)\n",
    "    total_success = n_combinations * n_success\n",
    "    prob = total_success / n_outcomes\n",
    "    percentage = prob * 100\n",
    "    print(f'Your chances of having {n} winning numbers with this ticket are {percentage:.8f}%.')\n",
    "     "
   ]
  },
  {
   "cell_type": "markdown",
   "id": "e17fc6e5",
   "metadata": {},
   "source": [
    "Testing the function."
   ]
  },
  {
   "cell_type": "code",
   "execution_count": 86,
   "id": "31bfc45f",
   "metadata": {},
   "outputs": [
    {
     "name": "stdout",
     "output_type": "stream",
     "text": [
      "Your chances of having 5 winning numbers with this ticket are 0.00184499%\n"
     ]
    }
   ],
   "source": [
    "probability_less_6(5)"
   ]
  },
  {
   "cell_type": "code",
   "execution_count": 87,
   "id": "cebb152c",
   "metadata": {},
   "outputs": [
    {
     "name": "stdout",
     "output_type": "stream",
     "text": [
      "Your chances of having 3 winning numbers with this ticket are 1.76504039%\n"
     ]
    }
   ],
   "source": [
    "probability_less_6(3)"
   ]
  }
 ],
 "metadata": {
  "kernelspec": {
   "display_name": "Python 3 (ipykernel)",
   "language": "python",
   "name": "python3"
  },
  "language_info": {
   "codemirror_mode": {
    "name": "ipython",
    "version": 3
   },
   "file_extension": ".py",
   "mimetype": "text/x-python",
   "name": "python",
   "nbconvert_exporter": "python",
   "pygments_lexer": "ipython3",
   "version": "3.11.3"
  }
 },
 "nbformat": 4,
 "nbformat_minor": 5
}
